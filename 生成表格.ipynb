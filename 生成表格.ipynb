{
 "cells": [
  {
   "cell_type": "markdown",
   "metadata": {},
   "source": [
    "# 方法一 \n",
    "自己写的名字随机生成器"
   ]
  },
  {
   "cell_type": "code",
   "execution_count": 85,
   "metadata": {},
   "outputs": [
    {
     "name": "stdout",
     "output_type": "stream",
     "text": [
      "      序号    姓名   A项得分   B项得分    总得分\n",
      "64    65    黎霭  89.66  94.90  91.76\n",
      "320  321    纪群  87.98  89.20  88.47\n",
      "170  171  端木上河  93.19  80.59  88.15\n"
     ]
    }
   ],
   "source": [
    "# 帮我用python生成一份表格数据，要求如下:\n",
    "# 1、125个人参与，帮我生产每个人的A项得分、B项得分，并计算得出总得分 (总得分构成中A项为60%，B项为40%)。\n",
    "# 2、列名分别为序号、姓名、A项得分、B项得分、总得分\n",
    "# 3、A项、B项得分不应低于70分、不高于100分。\n",
    "# 4、将总成绩按高到底排序，\n",
    "# 5、直接输出表格，不少于50行，不要做省略\n",
    "\n",
    "import pandas as pd  \n",
    "import numpy as np  \n",
    "import 名字随机生成器 as name  # 导入名字随机生成器\n",
    "  \n",
    "# 创建参与者列表  \n",
    "names = np.array([])\n",
    "\n",
    "for i in range(500):\n",
    "    new_name = name.random_name()\n",
    "    # print(new_name.split('\\t')[0])\n",
    "    names = np.append(names, new_name.split('\\t')[0])\n",
    "\n",
    "  \n",
    "# 创建A项得分和B项得分列表，范围在70到100之间，符合正态分布  保留两位小数\n",
    "a_scores = np.round(np.random.normal(loc=70, scale=10, size=500), 2)\n",
    "b_scores = np.round(np.random.normal(loc=70, scale=10, size=500), 2)  \n",
    "  \n",
    "# 计算总得分，A项占比60%，B项占比40%   保留两位小数\n",
    "total_scores = np.round(a_scores * 0.6 + b_scores * 0.4, 2)\n",
    "  \n",
    "\n",
    "# 创建DataFrame表格  \n",
    "df = pd.DataFrame({  \n",
    "    '序号':  np.arange(1, 501),\n",
    "    '姓名':  names,  \n",
    "    'A项得分': a_scores,  \n",
    "    'B项得分': b_scores,  \n",
    "    '总得分': total_scores  \n",
    "})  \n",
    "  \n",
    "# 按总得分从高到低排序  \n",
    "df = df.sort_values('总得分', ascending=False)  \n",
    "  \n",
    "# 输出前50行，避免结果过长导致问题  \n",
    "print(df.head(3))\n",
    "\n",
    "# 输出到excel\n",
    "df.to_excel('./data/方法一.xlsx')"
   ]
  },
  {
   "cell_type": "markdown",
   "metadata": {},
   "source": [
    "# 方法二\n",
    "使用faker库生成名字"
   ]
  },
  {
   "cell_type": "code",
   "execution_count": 81,
   "metadata": {},
   "outputs": [],
   "source": [
    "# !pip install faker"
   ]
  },
  {
   "cell_type": "code",
   "execution_count": 1,
   "metadata": {},
   "outputs": [
    {
     "name": "stdout",
     "output_type": "stream",
     "text": [
      "      序号   姓名  A项得分  B项得分    总分\n",
      "36    37   李瑞    99    99  99.0\n",
      "28    29   薛云    99    93  96.6\n",
      "18    19   罗龙    97    95  96.2\n",
      "14    15  刘玉英    95    97  95.8\n",
      "114  115   赵成    96    95  95.6\n",
      "13    14  徐红霞    93    98  95.0\n",
      "46    47   马想    93    97  94.6\n",
      "25    26   姚玲    93    96  94.2\n",
      "58    59   徐平    90    99  93.6\n",
      "0      1   李旭    91    97  93.4\n",
      "7      8  朱建国    96    89  93.2\n",
      "12    13   陶帆    95    90  93.0\n",
      "24    25   王宁    89    98  92.6\n",
      "53    54   蔡杨    94    90  92.4\n",
      "112  113   梁静    98    84  92.4\n",
      "89    90  陈桂兰    92    93  92.4\n",
      "21    22   黄云    99    82  92.2\n",
      "81    82   吕娟    94    89  92.0\n",
      "67    68   张伟    92    92  92.0\n",
      "72    73  龙玉兰    88    97  91.6\n",
      "83    84  罗秀芳    98    82  91.6\n",
      "17    18   黄杨    90    92  90.8\n",
      "43    44   杜华    86    98  90.8\n",
      "75    76  贺淑英    90    92  90.8\n",
      "123  124   鞠玲    99    78  90.6\n",
      "9     10   王文    95    83  90.2\n",
      "86    87   杜静    97    80  90.2\n",
      "93    94   莫雷    89    91  89.8\n",
      "119  120   邱丹    88    92  89.6\n",
      "29    30   李静    84    98  89.6\n",
      "116  117   林晨    97    78  89.4\n",
      "6      7   陈晨    95    81  89.4\n",
      "79    80   唐丽    91    86  89.0\n",
      "34    35  杨淑华    95    80  89.0\n",
      "11    12   徐荣    83    97  88.6\n",
      "32    33   黎帆    86    91  88.0\n",
      "87    88   施佳    90    85  88.0\n",
      "60    61   杨浩    85    92  87.8\n",
      "120  121   范龙    95    77  87.8\n",
      "8      9  刘桂珍    92    81  87.6\n",
      "41    42  蓝淑兰    98    72  87.6\n",
      "40    41   郭伟    91    82  87.4\n",
      "23    24  胡淑英    89    85  87.4\n",
      "95    96   尤杨    89    84  87.0\n",
      "88    89   方琳    82    94  86.8\n",
      "69    70   孙辉    96    73  86.8\n",
      "38    39   陈楠    97    71  86.6\n",
      "74    75   唐伟    95    74  86.6\n",
      "61    62   张伟    93    77  86.6\n",
      "108  109   江丹    94    75  86.4\n"
     ]
    }
   ],
   "source": [
    "import pandas as pd\n",
    "import numpy as np\n",
    "from faker import Faker # 用于随机生成姓名\n",
    "\n",
    "fake = Faker(locale='zh_CN') \n",
    "\n",
    "# 生成125个随机姓名\n",
    "names = [fake.name() for _ in range(125)]\n",
    "\n",
    "# 生成125个人的A项和B项随机分数\n",
    "a_scores = np.random.randint(70, 100, 125)  \n",
    "b_scores = np.random.randint(70, 100, 125)\n",
    "\n",
    "# 计算总分\n",
    "total_scores = a_scores * 0.6 + b_scores * 0.4\n",
    "\n",
    "# 构建DataFrame\n",
    "df = pd.DataFrame({\n",
    "    '序号': np.arange(1, 126),\n",
    "    '姓名': names,  \n",
    "    'A项得分': a_scores,\n",
    "    'B项得分': b_scores,\n",
    "    '总分': total_scores\n",
    "})\n",
    "\n",
    "# 排序\n",
    "df = df.sort_values('总分', ascending=False) \n",
    "\n",
    "# 打印前50行\n",
    "print(df.head(50))\n",
    "\n",
    "# 输出到excel\n",
    "df.to_excel('./data/方法二.xlsx')"
   ]
  }
 ],
 "metadata": {
  "kernelspec": {
   "display_name": "mytorch",
   "language": "python",
   "name": "python3"
  },
  "language_info": {
   "codemirror_mode": {
    "name": "ipython",
    "version": 3
   },
   "file_extension": ".py",
   "mimetype": "text/x-python",
   "name": "python",
   "nbconvert_exporter": "python",
   "pygments_lexer": "ipython3",
   "version": "3.7.13"
  }
 },
 "nbformat": 4,
 "nbformat_minor": 2
}
